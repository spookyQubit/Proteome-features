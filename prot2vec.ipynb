{
 "cells": [
  {
   "cell_type": "markdown",
   "metadata": {},
   "source": [
    "# Features of the human proteome"
   ]
  },
  {
   "cell_type": "code",
   "execution_count": 85,
   "metadata": {
    "collapsed": false
   },
   "outputs": [],
   "source": [
    "import os\n",
    "import pandas as pd\n",
    "import numpy as np\n",
    "import re\n",
    "%matplotlib inline\n",
    "import matplotlib.pyplot as plt"
   ]
  },
  {
   "cell_type": "code",
   "execution_count": 4,
   "metadata": {
    "collapsed": false
   },
   "outputs": [],
   "source": [
    "f_prot2vec = './prot2vec_data/protVec_100d_3grams.csv'\n",
    "f_prot2vec_processed = './prot2vec_data/protVec_100d_3grams_processed.csv'\n",
    "\n",
    "if os.path.isfile(f_prot2vec_processed):\n",
    "    os.remove(f_prot2vec_processed)\n",
    "\n",
    "with open(f_prot2vec_processed, 'a') as outfile:\n",
    "    with open(f_prot2vec, 'r') as infile:\n",
    "        for line in infile:\n",
    "            l = re.sub(r'\\s+', ',', line)\n",
    "            l = l[1:-2] + '\\n'\n",
    "            outfile.write(l)"
   ]
  },
  {
   "cell_type": "code",
   "execution_count": 126,
   "metadata": {
    "collapsed": false
   },
   "outputs": [],
   "source": [
    "df = pd.read_csv(f_prot2vec_processed, header=None)"
   ]
  },
  {
   "cell_type": "code",
   "execution_count": 125,
   "metadata": {
    "collapsed": false
   },
   "outputs": [],
   "source": [
    "def get_vecotor_for_3gram(three_gram_, df_prot2vec_=df):\n",
    "    return df_prot2vec_[df_prot2vec_[0]==three_gram_][[i for i in range(1, df_prot2vec_.shape[1])]].values\n",
    "\n",
    "vec = get_vecotor_for_3gram('AAA')\n",
    "if vec.size:\n",
    "    print \"Not Empty\""
   ]
  },
  {
   "cell_type": "code",
   "execution_count": 6,
   "metadata": {
    "collapsed": false
   },
   "outputs": [
    {
     "data": {
      "text/plain": [
       "(20160, 1)"
      ]
     },
     "execution_count": 6,
     "metadata": {},
     "output_type": "execute_result"
    }
   ],
   "source": [
    "f_reviewed_protein_sequences =  './ProteinList/reviewed_sequences'\n",
    "df_rev_proteins = pd.read_csv(f_reviewed_protein_sequences, header=None)\n",
    "df_rev_proteins.shape"
   ]
  },
  {
   "cell_type": "code",
   "execution_count": 7,
   "metadata": {
    "collapsed": false
   },
   "outputs": [],
   "source": [
    "def get_length_distribution(dataframe, sequence_column=0, num_bins=10):\n",
    "    x_min = 0\n",
    "    x_max = 3000\n",
    "    length = []\n",
    "    for i in range(dataframe.shape[0]):\n",
    "        length.append(len(dataframe.iloc[i, sequence_column]))\n",
    "    plt.hist(length, bins=num_bins, range=(x_min, x_max))\n",
    "    plt.show()"
   ]
  },
  {
   "cell_type": "code",
   "execution_count": 8,
   "metadata": {
    "collapsed": false
   },
   "outputs": [
    {
     "data": {
      "image/png": "[encoded data removed]",
      "text/plain": [
       "<matplotlib.figure.Figure at 0x4abf110>"
      ]
     },
     "metadata": {},
     "output_type": "display_data"
    }
   ],
   "source": [
    "get_length_distribution(df_rev_proteins, num_bins=200)"
   ]
  },
  {
   "cell_type": "code",
   "execution_count": 9,
   "metadata": {
    "collapsed": false
   },
   "outputs": [],
   "source": [
    "MAGNITUDE_CHARGE_VAL = 1\n",
    "POSITIVE_CHARGE_VAL = MAGNITUDE_CHARGE_VAL\n",
    "NEGATIVE_CHARGE_VAL = -MAGNITUDE_CHARGE_VAL\n",
    "\n",
    "amino_acid_charge_map = {\n",
    "    \"R\": POSITIVE_CHARGE_VAL,\n",
    "    \"H\": POSITIVE_CHARGE_VAL,\n",
    "    \"K\": POSITIVE_CHARGE_VAL,\n",
    "    \"D\": NEGATIVE_CHARGE_VAL,\n",
    "    \"E\": NEGATIVE_CHARGE_VAL,\n",
    "    \"S\": 0,\n",
    "    \"T\": 0,\n",
    "    \"N\": 0,\n",
    "    \"Q\": 0,\n",
    "    \"C\": 0,\n",
    "    \"U\": 0,\n",
    "    \"G\": 0,\n",
    "    \"P\": 0,\n",
    "    \"A\": 0,\n",
    "    \"V\": 0,\n",
    "    \"I\": 0,\n",
    "    \"L\": 0,\n",
    "    \"M\": 0,\n",
    "    \"F\": 0,\n",
    "    \"Y\": 0,\n",
    "    \"W\": 0\n",
    "}\n",
    "\n",
    "# charge_type: net_charge_count, percent_positive, percent_negative, percent_any_charge\n",
    "\n",
    "def get_charge_distribution(dataframe, sequence_column=0, \n",
    "                            num_bins=100, charge_type=\"net_charge_count\", \n",
    "                            x_range=None, title=\"\"):\n",
    "    charge_distribution = []\n",
    "    for i in range(dataframe.shape[0]):\n",
    "        length = len(dataframe.iloc[i, sequence_column])\n",
    "        charge = 0\n",
    "        for am in dataframe.iloc[i, sequence_column]:\n",
    "            if am in amino_acid_charge_map:\n",
    "                charge_val = amino_acid_charge_map[am]\n",
    "                if(charge_type==\"net_charge_count\"):\n",
    "                    charge += charge_val\n",
    "                elif(charge_type==\"percent_positive\"):\n",
    "                    if(charge_val == POSITIVE_CHARGE_VAL):\n",
    "                        charge += POSITIVE_CHARGE_VAL * 1.0 / length\n",
    "                elif(charge_type==\"percent_negative\"):\n",
    "                    if(charge_val == NEGATIVE_CHARGE_VAL):\n",
    "                        charge += NEGATIVE_CHARGE_VAL * 1.0 / length\n",
    "                elif(charge_type==\"percent_any_charge\"):\n",
    "                    if(charge_val == NEGATIVE_CHARGE_VAL or charge_val == POSITIVE_CHARGE_VAL):\n",
    "                        charge += MAGNITUDE_CHARGE_VAL * 1.0 / length\n",
    "        charge_distribution.append(charge)\n",
    "    if x_range is not None:\n",
    "        plt.hist(charge_distribution, bins=num_bins, range=(x_range[0], x_range[1]))\n",
    "        plt.title(title)\n",
    "        plt.show()\n",
    "    else:\n",
    "        plt.hist(charge_distribution, bins=num_bins)\n",
    "        plt.title(title)\n",
    "        plt.show()"
   ]
  },
  {
   "cell_type": "code",
   "execution_count": 10,
   "metadata": {
    "collapsed": false
   },
   "outputs": [
    {
     "data": {
      "image/png": "[encoded data removed]",
      "text/plain": [
       "<matplotlib.figure.Figure at 0x7f674ddf5750>"
      ]
     },
     "metadata": {},
     "output_type": "display_data"
    },
    {
     "data": {
      "image/png": "[encoded data removed]",
      "text/plain": [
       "<matplotlib.figure.Figure at 0x7f674ddf5750>"
      ]
     },
     "metadata": {},
     "output_type": "display_data"
    }
   ],
   "source": [
    "get_charge_distribution(df_rev_proteins, \n",
    "                        charge_type=\"percent_any_charge\", \n",
    "                        title=\"Fraction charged residues\")\n",
    "get_charge_distribution(df_rev_proteins, \n",
    "                        charge_type=\"net_charge_count\", \n",
    "                        x_range=(-100, 100), \n",
    "                        title=\"Net charge of proteins\")"
   ]
  },
  {
   "cell_type": "code",
   "execution_count": 11,
   "metadata": {
    "collapsed": true
   },
   "outputs": [],
   "source": [
    "MAGNITUDE_HYDROPHOBIC_VAL = 1\n",
    "amino_acid_hydrophobic_map = {\n",
    "    \"R\": 0,\n",
    "    \"H\": 0,\n",
    "    \"K\": 0,\n",
    "    \"D\": 0,\n",
    "    \"E\": 0,\n",
    "    \"S\": 0,\n",
    "    \"T\": 0,\n",
    "    \"N\": 0,\n",
    "    \"Q\": 0,\n",
    "    \"C\": 0,\n",
    "    \"U\": 0,\n",
    "    \"G\": 0,\n",
    "    \"P\": 0,\n",
    "    \"A\": MAGNITUDE_HYDROPHOBIC_VAL,\n",
    "    \"V\": MAGNITUDE_HYDROPHOBIC_VAL,\n",
    "    \"I\": MAGNITUDE_HYDROPHOBIC_VAL,\n",
    "    \"L\": MAGNITUDE_HYDROPHOBIC_VAL,\n",
    "    \"M\": MAGNITUDE_HYDROPHOBIC_VAL,\n",
    "    \"F\": MAGNITUDE_HYDROPHOBIC_VAL,\n",
    "    \"Y\": MAGNITUDE_HYDROPHOBIC_VAL,\n",
    "    \"W\": MAGNITUDE_HYDROPHOBIC_VAL\n",
    "}\n",
    "\n",
    "def get_hydrophobic_distribution(dataframe, sequence_column=0, \n",
    "                                 num_bins=100, \n",
    "                                 x_range=None, title=\"\"):\n",
    "    hydrophobic_count_distribution = []\n",
    "    for i in range(dataframe.shape[0]):\n",
    "        hydrophobic_count = 0\n",
    "        for am in dataframe.iloc[i, sequence_column]:\n",
    "            if am in amino_acid_hydrophobic_map:\n",
    "                hydrophobic_count += amino_acid_hydrophobic_map[am]\n",
    "        hydrophobic_count_distribution.append(hydrophobic_count*1.0/len(dataframe.iloc[i, sequence_column]))\n",
    "        \n",
    "    if x_range is not None:\n",
    "        plt.hist(hydrophobic_count_distribution, bins=num_bins, range=(x_range[0], x_range[1]))\n",
    "        plt.title(title)\n",
    "        plt.show()\n",
    "    else:\n",
    "        plt.hist(hydrophobic_count_distribution, bins=num_bins)\n",
    "        plt.title(title)\n",
    "        plt.show()"
   ]
  },
  {
   "cell_type": "code",
   "execution_count": 12,
   "metadata": {
    "collapsed": false
   },
   "outputs": [
    {
     "data": {
      "image/png": "[encoded data removed]",
      "text/plain": [
       "<matplotlib.figure.Figure at 0x50246d0>"
      ]
     },
     "metadata": {},
     "output_type": "display_data"
    }
   ],
   "source": [
    "get_hydrophobic_distribution(df_rev_proteins, \n",
    "                             title=\"Fraction hydrophobic residues\")"
   ]
  },
  {
   "cell_type": "code",
   "execution_count": 80,
   "metadata": {
    "collapsed": true
   },
   "outputs": [],
   "source": [
    "# Get the distribution of percent of each of the amino acid in the protiens\n",
    "amino_acids = [\"R\", \"H\", \"K\", \"D\", \"E\", \"S\", \"T\", \"N\", \"Q\", \"C\", \"U\", \"G\",\n",
    "               \"P\", \"A\", \"V\", \"I\", \"L\", \"M\", \"F\", \"Y\", \"W\"]\n",
    "\n",
    "def get_amino_acic_distribution(dataframe, sequence_column=0, title=\"\"):\n",
    "    empty_amino_acid_distribution = {}\n",
    "    total_amino_acid_distribution = {}\n",
    "    for am in amino_acids:\n",
    "        empty_amino_acid_distribution.update({am:0})\n",
    "        total_amino_acid_distribution.update({am:[]})\n",
    "    for i in range(dataframe.shape[0]):\n",
    "        current_amino_acid_distribution = empty_amino_acid_distribution.copy()\n",
    "        length = len(dataframe.iloc[i, sequence_column])\n",
    "        for am in dataframe.iloc[i, sequence_column]:\n",
    "            if am in current_amino_acid_distribution:\n",
    "                current_amino_acid_distribution[am] += 1.0 / length\n",
    "        for am in amino_acids:\n",
    "            total_amino_acid_distribution[am].append(current_amino_acid_distribution[am])\n",
    "    \n",
    "    total_amino_acid_distribution_ = []\n",
    "    for am in amino_acids:\n",
    "        total_amino_acid_distribution_.append(total_amino_acid_distribution[am])\n",
    "    \n",
    "    \n",
    "    #sns.set(style='whitegrid', context='notebook')\n",
    "    #sns.pairplot(pd.DataFrame({\"M\": total_amino_acid_distribution[\"M\"], \n",
    "    #                           \"L\": total_amino_acid_distribution[\"L\"],\n",
    "    #                           \"K\": total_amino_acid_distribution[\"K\"]}), \n",
    "    #             size=2.5)\n",
    "    \n",
    "    fig = plt.figure(figsize=(15,10)) \n",
    "    ax_box = fig.add_subplot(111)\n",
    "    ax_box.boxplot(total_amino_acid_distribution_, vert=True)\n",
    "    \n",
    "    plt.title(title)\n",
    "    plt.ylim([0, 0.2])\n",
    "    plt.xticks(np.arange(1, len(amino_acids)+1), amino_acids)\n",
    "    plt.show()"
   ]
  },
  {
   "cell_type": "code",
   "execution_count": 81,
   "metadata": {
    "collapsed": false,
    "scrolled": true
   },
   "outputs": [
    {
     "data": {
      "image/png": "[encoded data removed]",
      "text/plain": [
       "<matplotlib.figure.Figure at 0x70186610>"
      ]
     },
     "metadata": {},
     "output_type": "display_data"
    }
   ],
   "source": [
    "get_amino_acic_distribution(df_rev_proteins, title=\"Frequency of each amino acid\")"
   ]
  },
  {
   "cell_type": "code",
   "execution_count": null,
   "metadata": {
    "collapsed": true
   },
   "outputs": [],
   "source": []
  }
 ],
 "metadata": {
  "kernelspec": {
   "display_name": "Python 2",
   "language": "python",
   "name": "python2"
  },
  "language_info": {
   "codemirror_mode": {
    "name": "ipython",
    "version": 2
   },
   "file_extension": ".py",
   "mimetype": "text/x-python",
   "name": "python",
   "nbconvert_exporter": "python",
   "pygments_lexer": "ipython2",
   "version": "2.7.3"
  }
 },
 "nbformat": 4,
 "nbformat_minor": 0
}
